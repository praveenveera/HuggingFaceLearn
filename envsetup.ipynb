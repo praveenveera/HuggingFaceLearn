{
 "cells": [
  {
   "cell_type": "code",
   "execution_count": 1,
   "metadata": {},
   "outputs": [],
   "source": [
    "# notebook to setup the env\n",
    "# instals etc"
   ]
  },
  {
   "cell_type": "code",
   "execution_count": 4,
   "metadata": {},
   "outputs": [
    {
     "name": "stdout",
     "output_type": "stream",
     "text": [
      "Requirement already satisfied: transformers[sentencepiece] in /home/sudouser/anaconda3/envs/ai/lib/python3.11/site-packages (4.36.2)\n",
      "Requirement already satisfied: filelock in /home/sudouser/anaconda3/envs/ai/lib/python3.11/site-packages (from transformers[sentencepiece]) (3.13.1)\n",
      "Requirement already satisfied: huggingface-hub<1.0,>=0.19.3 in /home/sudouser/anaconda3/envs/ai/lib/python3.11/site-packages (from transformers[sentencepiece]) (0.20.1)\n",
      "Requirement already satisfied: numpy>=1.17 in /home/sudouser/anaconda3/envs/ai/lib/python3.11/site-packages (from transformers[sentencepiece]) (1.26.2)\n",
      "Requirement already satisfied: packaging>=20.0 in /home/sudouser/anaconda3/envs/ai/lib/python3.11/site-packages (from transformers[sentencepiece]) (23.2)\n",
      "Requirement already satisfied: pyyaml>=5.1 in /home/sudouser/anaconda3/envs/ai/lib/python3.11/site-packages (from transformers[sentencepiece]) (6.0.1)\n",
      "Requirement already satisfied: regex!=2019.12.17 in /home/sudouser/anaconda3/envs/ai/lib/python3.11/site-packages (from transformers[sentencepiece]) (2023.10.3)\n",
      "Requirement already satisfied: requests in /home/sudouser/anaconda3/envs/ai/lib/python3.11/site-packages (from transformers[sentencepiece]) (2.31.0)\n",
      "Requirement already satisfied: tokenizers<0.19,>=0.14 in /home/sudouser/anaconda3/envs/ai/lib/python3.11/site-packages (from transformers[sentencepiece]) (0.15.0)\n",
      "Requirement already satisfied: safetensors>=0.3.1 in /home/sudouser/anaconda3/envs/ai/lib/python3.11/site-packages (from transformers[sentencepiece]) (0.4.1)\n",
      "Requirement already satisfied: tqdm>=4.27 in /home/sudouser/anaconda3/envs/ai/lib/python3.11/site-packages (from transformers[sentencepiece]) (4.66.1)\n",
      "Requirement already satisfied: sentencepiece!=0.1.92,>=0.1.91 in /home/sudouser/anaconda3/envs/ai/lib/python3.11/site-packages (from transformers[sentencepiece]) (0.1.99)\n",
      "Requirement already satisfied: protobuf in /home/sudouser/anaconda3/envs/ai/lib/python3.11/site-packages (from transformers[sentencepiece]) (4.23.4)\n",
      "Requirement already satisfied: fsspec>=2023.5.0 in /home/sudouser/anaconda3/envs/ai/lib/python3.11/site-packages (from huggingface-hub<1.0,>=0.19.3->transformers[sentencepiece]) (2023.10.0)\n",
      "Requirement already satisfied: typing-extensions>=3.7.4.3 in /home/sudouser/anaconda3/envs/ai/lib/python3.11/site-packages (from huggingface-hub<1.0,>=0.19.3->transformers[sentencepiece]) (4.9.0)\n",
      "Requirement already satisfied: charset-normalizer<4,>=2 in /home/sudouser/anaconda3/envs/ai/lib/python3.11/site-packages (from requests->transformers[sentencepiece]) (3.3.2)\n",
      "Requirement already satisfied: idna<4,>=2.5 in /home/sudouser/anaconda3/envs/ai/lib/python3.11/site-packages (from requests->transformers[sentencepiece]) (3.6)\n",
      "Requirement already satisfied: urllib3<3,>=1.21.1 in /home/sudouser/anaconda3/envs/ai/lib/python3.11/site-packages (from requests->transformers[sentencepiece]) (2.1.0)\n",
      "Requirement already satisfied: certifi>=2017.4.17 in /home/sudouser/anaconda3/envs/ai/lib/python3.11/site-packages (from requests->transformers[sentencepiece]) (2023.11.17)\n"
     ]
    }
   ],
   "source": [
    "# !pip install transformers[cuda] # cuda activated \n",
    "# !pip install \"transformers[sentencepiece]\""
   ]
  },
  {
   "cell_type": "code",
   "execution_count": null,
   "metadata": {},
   "outputs": [],
   "source": []
  }
 ],
 "metadata": {
  "kernelspec": {
   "display_name": "ai",
   "language": "python",
   "name": "python3"
  },
  "language_info": {
   "codemirror_mode": {
    "name": "ipython",
    "version": 3
   },
   "file_extension": ".py",
   "mimetype": "text/x-python",
   "name": "python",
   "nbconvert_exporter": "python",
   "pygments_lexer": "ipython3",
   "version": "3.11.5"
  }
 },
 "nbformat": 4,
 "nbformat_minor": 2
}
